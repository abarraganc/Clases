{
  "nbformat": 4,
  "nbformat_minor": 0,
  "metadata": {
    "colab": {
      "provenance": [],
      "include_colab_link": true
    },
    "kernelspec": {
      "name": "python3",
      "display_name": "Python 3"
    },
    "language_info": {
      "name": "python"
    }
  },
  "cells": [
    {
      "cell_type": "markdown",
      "metadata": {
        "id": "view-in-github",
        "colab_type": "text"
      },
      "source": [
        "<a href=\"https://colab.research.google.com/github/abarraganc/Clases/blob/main/an%C3%A1lisis_de_Secuencias_Gen%C3%B3micas_Usando_Python.ipynb\" target=\"_parent\"><img src=\"https://colab.research.google.com/assets/colab-badge.svg\" alt=\"Open In Colab\"/></a>"
      ]
    },
    {
      "cell_type": "markdown",
      "source": [
        "# Obtener secuencias genómicas del NCBI y determinar características"
      ],
      "metadata": {
        "id": "UJVayiT-UyHc"
      }
    },
    {
      "cell_type": "markdown",
      "source": [
        "En este comando lo primero que demos hacer es instalar biopython, tal cual como lo haciamos en nuestros computadores"
      ],
      "metadata": {
        "id": "RshQe3A89dyr"
      }
    },
    {
      "cell_type": "code",
      "source": [
        "pip install biopython"
      ],
      "metadata": {
        "collapsed": true,
        "id": "dJlhCMNB9Rod"
      },
      "execution_count": null,
      "outputs": []
    },
    {
      "cell_type": "markdown",
      "source": [
        "Ahora vamos a importar la entrada al NCBI y a su lector de secuencias, e identificarnos con nuestro correo"
      ],
      "metadata": {
        "id": "66gYm4A791K_"
      }
    },
    {
      "cell_type": "code",
      "source": [
        "from Bio import Entrez\n",
        "from Bio import SeqIO\n",
        "\n",
        "Entrez.email = 'acbarragan@unicolmayor.edu.co'"
      ],
      "metadata": {
        "id": "o8gl5fin9YvW"
      },
      "execution_count": null,
      "outputs": []
    },
    {
      "cell_type": "markdown",
      "source": [
        "Vamos a buscar una secuencia en específico, en este caso será el genóma de SARS-CoV-2 con ID: MN908947\n",
        "Y la vemos esta entrada"
      ],
      "metadata": {
        "id": "qSRZz36P9_VZ"
      }
    },
    {
      "cell_type": "code",
      "source": [
        "handle = Entrez.efetch(db=\"nucleotide\", id=\"MN908947\", rettype=\"gb\", retmode=\"text\")\n",
        "recs = list(SeqIO.parse(handle, 'gb'))\n",
        "handle.close()\n",
        "print(recs)"
      ],
      "metadata": {
        "collapsed": true,
        "id": "WLMX8hgY-Os5"
      },
      "execution_count": null,
      "outputs": []
    },
    {
      "cell_type": "markdown",
      "source": [
        "Vamos ahora a extraer la secuencia de DNA de esta entrada e imprimirla"
      ],
      "metadata": {
        "id": "nMAaPi9W-bwH"
      }
    },
    {
      "cell_type": "code",
      "source": [
        "covid_dna = recs[0].seq\n",
        "print(covid_dna)"
      ],
      "metadata": {
        "id": "eesdLk2r-lcO"
      },
      "execution_count": null,
      "outputs": []
    },
    {
      "cell_type": "markdown",
      "source": [
        "Vamos a determinar la cantidad de nucleótidos que tiene esta secuencia"
      ],
      "metadata": {
        "id": "DIUHJRU3-rNl"
      }
    },
    {
      "cell_type": "code",
      "source": [
        "print('El genoma de SARS-CoV-2 aislado en Wuhan contiene', len(covid_dna), 'nucleótidos')"
      ],
      "metadata": {
        "collapsed": true,
        "id": "_PtmCvI1-xr8"
      },
      "execution_count": null,
      "outputs": []
    },
    {
      "cell_type": "markdown",
      "source": [
        "Ahora determinaremos su peso molecular y su porcentaje de GC. Para ello debemos importar los comandos de cada uno e imprimir una respuesta."
      ],
      "metadata": {
        "id": "sRkNVj9M_DNl"
      }
    },
    {
      "cell_type": "code",
      "source": [
        "from Bio.SeqUtils import molecular_weight\n",
        "print('El peso molecular del genoma de  SARS-CoV-2  es', molecular_weight(covid_dna), 'Da')\n",
        "print('El peso molecular del genoma de  SARS-CoV-2  es',round(molecular_weight(covid_dna)), 'Da', ' \\n')\n",
        "\n",
        "from Bio.SeqUtils import gc_fraction\n",
        "print('El porcentaje de GC del genoma de  SARS-CoV-2  es', (gc_fraction(covid_dna)*100), '%')\n",
        "print('El porcentaje de GC del genoma de  SARS-CoV-2  es', round(gc_fraction(covid_dna)*100), '%')"
      ],
      "metadata": {
        "collapsed": true,
        "id": "wPMZz0tx_NxT"
      },
      "execution_count": null,
      "outputs": []
    },
    {
      "cell_type": "markdown",
      "source": [
        "Ahora vemos a contar la frecuencia de cada una de las bases nitrogenadas dentro del genoma"
      ],
      "metadata": {
        "id": "q5Uf2Lv4AsDp"
      }
    },
    {
      "cell_type": "code",
      "source": [
        "count_nucleotides = {\n",
        "    'A': covid_dna.count('A'),\n",
        "    'T': covid_dna.count('T'),\n",
        "    'C': covid_dna.count('C'),\n",
        "    'G': covid_dna.count('G')\n",
        "}\n",
        "print(f'La frecuencia de nucleoótidos en el genoma es  {count_nucleotides}')"
      ],
      "metadata": {
        "collapsed": true,
        "id": "WkBuanwtAzxh"
      },
      "execution_count": null,
      "outputs": []
    },
    {
      "cell_type": "markdown",
      "source": [
        "Haremos un gráfico de barras sencillo con esta frecuencia.\n",
        "Para ello importaremos la librería de matplot y eligiremos cada una de las características de nuestro gráfico, como:\n",
        "*   Ancho de barra: su ancho va aumentando desde 0.1 hacia arriba\n",
        "*   Color de barra: podemos separar por , cada color que queremos para cada barra, puede escribirse el color en inglés, su inicial en inglés o el código hexadecimal de cada color\n",
        "*   Nombre del eje X\n",
        "*   Nombre del eje y\n",
        "*   Título del gráfico"
      ],
      "metadata": {
        "id": "GbFopUloB_Ck"
      }
    },
    {
      "cell_type": "code",
      "source": [
        "import matplotlib.pyplot as plt\n",
        "ancho_de_barra = 0.5\n",
        "plt.bar(count_nucleotides.keys(), count_nucleotides.values(), ancho_de_barra, color=['#CEE7CC', 'r', 'orange', 'pink'])\n",
        "plt.xlabel('Nucleótido')\n",
        "plt.ylabel('Frecuencia')\n",
        "plt.title('Frecuencia de nucleótidos en el genoma de SARS-CoV-2')\n",
        "plt.show()"
      ],
      "metadata": {
        "collapsed": true,
        "id": "nCLJlefHB7cK"
      },
      "execution_count": null,
      "outputs": []
    },
    {
      "cell_type": "markdown",
      "source": [
        "# Transcribir y traducir un genoma"
      ],
      "metadata": {
        "id": "-CjmjslNU8yb"
      }
    },
    {
      "cell_type": "markdown",
      "source": [
        "Como ya tenemos el genoma del SARS-CoV-2, es decir su secuencia de DNA, vamos a transcribirla para obtener el mRNA.\n",
        "Para ello usamos la función transcribe que hará el cambio de T por U"
      ],
      "metadata": {
        "id": "3paDkBZRD573"
      }
    },
    {
      "cell_type": "code",
      "source": [
        "covid_mRNA=covid_dna.transcribe()\n",
        "print(covid_mRNA)"
      ],
      "metadata": {
        "collapsed": true,
        "id": "FVAeBRSdECLn"
      },
      "execution_count": null,
      "outputs": []
    },
    {
      "cell_type": "markdown",
      "source": [
        "Con este transcrito podemos entonces hacer su traducción a aminoácidos haciendo uso de la función translate.\n",
        "De esta forma obtendremos la secuencia de aminoácidos en formato de 1 letra y el * se insertará cada vez que en el mRNA se encuentre un codón de parada"
      ],
      "metadata": {
        "id": "Ei0S4_8IEjev"
      }
    },
    {
      "cell_type": "code",
      "source": [
        "covid_aa=covid_mRNA.translate()\n",
        "print(covid_aa)"
      ],
      "metadata": {
        "collapsed": true,
        "id": "J_XRW6JqEtfZ"
      },
      "execution_count": null,
      "outputs": []
    },
    {
      "cell_type": "markdown",
      "source": [
        "Vamos a contar la frecuencia con la que se encuentra cada uno de los aminoácidos.\n",
        "Para esto vamos a importar la función counter.\n",
        "*A diferencia de la función count que usamos previamente, con counter no necesitamos especificar uno a uno los aminoácidos para que los cuente, sino que python va a contar las veces que se repita cada caracter y nos dará una lista de caracteres y su frecuencia*"
      ],
      "metadata": {
        "id": "bgYmbn0kFFrc"
      }
    },
    {
      "cell_type": "code",
      "source": [
        "from collections import Counter\n",
        "frecuencia_aa = Counter(covid_aa)\n",
        "print(frecuencia_aa)\n",
        "\n",
        "#Ahora vamos a imprimir solo los 10 aminoácidos más frecuentes\n",
        "print(' \\n', frecuencia_aa.most_common(10))\n",
        "\n",
        "#Al  usar esta función, cuenta como aminoácido el * entonces debemos eliminarlo y repetir la frecuencia de los 10 aminoácidos más comunes\n",
        "del frecuencia_aa['*']\n",
        "print(' \\n', frecuencia_aa.most_common(10))"
      ],
      "metadata": {
        "id": "GQtofWD_FXPn"
      },
      "execution_count": null,
      "outputs": []
    },
    {
      "cell_type": "markdown",
      "source": [
        "Crearemos ahora otro gráfica de frecuencias"
      ],
      "metadata": {
        "id": "mGcyRElTHaUo"
      }
    },
    {
      "cell_type": "code",
      "source": [
        "ancho_de_barra = 0.8\n",
        "plt.bar(frecuencia_aa.keys(), frecuencia_aa.values(), ancho_de_barra, color=['#CEE7CC', '#DAE9F8', 'orange', 'pink', '#CCCCFF', '#009999'])\n",
        "plt.xlabel('Aminoácido')\n",
        "plt.ylabel('Frecuencia')\n",
        "plt.title('Frecuencia de aminoácidos codificados por el genoma de SARS-CoV-2')\n",
        "plt.show()"
      ],
      "metadata": {
        "collapsed": true,
        "id": "iJE29aZaHlKw"
      },
      "execution_count": null,
      "outputs": []
    },
    {
      "cell_type": "markdown",
      "source": [
        "Usando la función de suma podemos determinar el total de aminoácidos codificados en este genoma"
      ],
      "metadata": {
        "id": "51bGl9d0KcPe"
      }
    },
    {
      "cell_type": "code",
      "source": [
        "print('El genoma del Covid-19 codifica para', sum(frecuencia_aa.values()), 'aminoácidos')"
      ],
      "metadata": {
        "id": "gf-56DAGKj_a"
      },
      "execution_count": null,
      "outputs": []
    },
    {
      "cell_type": "markdown",
      "source": [
        "Ahora vamos a determinar esos aminoácidos en cuantos polipéptidos se dividen, basado en cuantos codones de parada hay en este genoma. Para ello usaremos la función split que nos va a dividir la secuencia de aminoácidos en pequeñas secuencias, cada que haya un codón de parada. Y contaremos cuántas secuencias de polipéptidos se crean mediante la función len"
      ],
      "metadata": {
        "id": "kSkU4RBnKvEJ"
      }
    },
    {
      "cell_type": "code",
      "source": [
        "peptidos = covid_aa.split('*')\n",
        "print(peptidos)\n",
        "print( ' \\n')\n",
        "print('En el genoma de SARS-CoV-2 hay', len(peptidos), 'péptidos')\n"
      ],
      "metadata": {
        "id": "Hoz4PywDLpyS"
      },
      "execution_count": null,
      "outputs": []
    },
    {
      "cell_type": "markdown",
      "source": [
        "Como podemos ver hay secuencias peptídicas de diferentes tamaños, solo aquellas de más de 20 aa pueden considerarse como proteínas funcionales.\n",
        "Para encontrar las potenciales proteínas vamos a crear una nueva lista con solo las secuencias de más de 20 aa, para ello usamos los operadores:\n",
        "*   for: buscar dentro de cada iten de una lista\n",
        "*   in: determinar dentro de qué lista va  abuscar\n",
        "*   if: generar el condicional que se va a buscar en cada ítem de la lista\n",
        "y contaremos cuántas proteìnas funcionales hay con la función len"
      ],
      "metadata": {
        "id": "hdJZJpukMAmA"
      }
    },
    {
      "cell_type": "code",
      "source": [
        "proteinas =[peptido for peptido in peptidos if len(peptido)>20]\n",
        "print(proteinas)\n",
        "print(len(proteinas))\n",
        "print( ' \\n')\n",
        "print('De las', len(peptidos), 'secuencias peptídicas codificadas en el genoma de SARS-CoV-2, solo', len(proteinas), 'secuencias tienen más de 20 aminoácidos y pueden considerarse proteínas funcionales')"
      ],
      "metadata": {
        "id": "jJZk4K-GMe9L"
      },
      "execution_count": null,
      "outputs": []
    },
    {
      "cell_type": "markdown",
      "source": [
        "Organizaremos estas proteínas funcionales en orden ascentente, de menor a mayor longitud, usando la función sorted.\n",
        "E imprimiremos la secuencia más corta y la más larga.\n",
        "*Es importante recordar que python cuenta los elementos de una lista desde 0, por tanto, la proteína más corta será la 0 y la más larga la 72*"
      ],
      "metadata": {
        "id": "zXUc2jyOOkfV"
      }
    },
    {
      "cell_type": "code",
      "source": [
        "tamaño_proteinas = sorted(proteinas, key = len)\n",
        "print('La proteína más larga codificada en este genoma tiene', len(tamaño_proteinas[72]), 'aminoácidos y su secuencia es', tamaño_proteinas[72])\n",
        "print('La proteína más corta codificada en este genoma tiene', len(tamaño_proteinas[0]), 'aminoácidosy su secuencia es', tamaño_proteinas[0])"
      ],
      "metadata": {
        "id": "M7PhXHMaNtH1"
      },
      "execution_count": null,
      "outputs": []
    },
    {
      "cell_type": "markdown",
      "source": [
        "Guardaremos la secuencia de la proteína más larga como un archivo fasta llamado protein_seq.fasta"
      ],
      "metadata": {
        "id": "wJQZls1jPewv"
      }
    },
    {
      "cell_type": "code",
      "source": [
        "with open(\"protein_seq.fasta\", \"w\") as file:\n",
        "    file.write(f\">covid protein\\n{tamaño_proteinas[72]}\")"
      ],
      "metadata": {
        "id": "YLl5qiGTPo9c"
      },
      "execution_count": null,
      "outputs": []
    },
    {
      "cell_type": "markdown",
      "source": [
        "Vamos a asegurarnos que python pueda leer nuestro archivo, impimiendolo por comando"
      ],
      "metadata": {
        "id": "2yWW26v2QYUa"
      }
    },
    {
      "cell_type": "code",
      "source": [
        "protein_seq = SeqIO.read(\"protein_seq.fasta\", \"fasta\")\n",
        "print(protein_seq.seq)"
      ],
      "metadata": {
        "id": "QXZzQRGzQWc-"
      },
      "execution_count": null,
      "outputs": []
    },
    {
      "cell_type": "markdown",
      "source": [
        "# Alineamiento a partir de una proteína del genoma"
      ],
      "metadata": {
        "id": "wY7kE05pVN2o"
      }
    },
    {
      "cell_type": "markdown",
      "source": [
        "Ahora realizamos un alineamiento de nuestra secuencia con la base de datos del pdb (protein data bank) para determinar qué proteína es.\n",
        "Solo pediremos los 5 mejores resultados"
      ],
      "metadata": {
        "id": "oY2bmmMdQ7zB"
      }
    },
    {
      "cell_type": "code",
      "source": [
        "from Bio.Blast import NCBIWWW\n",
        "alineamiento = NCBIWWW.qblast(\"blastp\", \"pdb\", protein_seq.seq)\n",
        "\n",
        "from Bio import SearchIO\n",
        "resultado_blast = SearchIO.read(alineamiento, 'blast-xml')\n",
        "top_cinco_resultados= resultado_blast[0:5]"
      ],
      "metadata": {
        "id": "S-0nwxC1Qnri"
      },
      "execution_count": null,
      "outputs": []
    },
    {
      "cell_type": "markdown",
      "source": [
        "Imprimiremos los 5 mejores alineamientos usando los operadores for e in y separando cara una de las características de interés para nuestra búsqueda como ID de la secuencia, descripción, valor E, score normalizado bit y el alineamiento"
      ],
      "metadata": {
        "id": "8Rall2DcSFXI"
      }
    },
    {
      "cell_type": "code",
      "source": [
        "for resultado_blast in top_cinco_resultados:\n",
        "    print(f\"ID: {resultado_blast.id}\")\n",
        "    print(f\"Descripción: {resultado_blast.description}\")\n",
        "    print(f\"Valor E : {resultado_blast[0].evalue}\")\n",
        "    print(f\"Score normalizado Bit:  {resultado_blast[0].bitscore}\")\n",
        "    print(f\"Alineamiento:\\n{resultado_blast[0].aln}\")\n",
        "    print()"
      ],
      "metadata": {
        "id": "2yZ4Zh0_RxlE"
      },
      "execution_count": null,
      "outputs": []
    },
    {
      "cell_type": "markdown",
      "source": [
        "# Visualización de una proteína"
      ],
      "metadata": {
        "id": "xc0uTNH9VZhE"
      }
    },
    {
      "cell_type": "markdown",
      "source": [
        "Antes de iniciar debemos instalar nglviw para poder visualizar nuestra proteína y habilitar su uso en google colab"
      ],
      "metadata": {
        "id": "ggfm9RujdvT-"
      }
    },
    {
      "cell_type": "code",
      "source": [
        "!pip install ipywidgets==7.7.2 nglview"
      ],
      "metadata": {
        "collapsed": true,
        "id": "9gfJp1tNamYB"
      },
      "execution_count": null,
      "outputs": []
    },
    {
      "cell_type": "code",
      "source": [
        "from google.colab import output\n",
        "output.enable_custom_widget_manager()"
      ],
      "metadata": {
        "id": "PdLfnWR8d_RP"
      },
      "execution_count": null,
      "outputs": []
    },
    {
      "cell_type": "markdown",
      "source": [
        "Dado que el pdb (protein data bank) es una base de datos que contiene múltiple información sobre proteínas, también almacena información estrucural que podemos descargar.\n",
        "Para ello primero debemos obtener solo el número de ID de la secuencia"
      ],
      "metadata": {
        "id": "g30GSzvgVZIJ"
      }
    },
    {
      "cell_type": "code",
      "source": [
        "seq_id = \"pdb|6YYT|A\"\n",
        "id= seq_id.split(\"|\")\n",
        "print(id)\n",
        "print(id[1])"
      ],
      "metadata": {
        "id": "zSX1NU1yVgQk"
      },
      "execution_count": null,
      "outputs": []
    },
    {
      "cell_type": "markdown",
      "source": [
        "Una vez obtenido este ID, usando el comando wget podemos recuperar los archivos de descripción de la estructura 3D de la secuencia"
      ],
      "metadata": {
        "id": "Z4AepdEeW22o"
      }
    },
    {
      "cell_type": "code",
      "source": [
        "!wget https://files.rcsb.org/download/6YYT.pdb"
      ],
      "metadata": {
        "id": "bb587_hZWGrC"
      },
      "execution_count": null,
      "outputs": []
    },
    {
      "cell_type": "markdown",
      "source": [
        "Recuperaremos esa información 3D desde nuestro archivo  y la vamos a llamar \"estructura\""
      ],
      "metadata": {
        "id": "FCCN8EYJXYF4"
      }
    },
    {
      "cell_type": "code",
      "source": [
        "from Bio.PDB import PDBParser\n",
        "analizador = PDBParser()\n",
        "estructura = analizador.get_structure('6YYT', '6YYT.pdb')\n",
        "print(estructura)"
      ],
      "metadata": {
        "id": "jLVkB46LWJhp"
      },
      "execution_count": null,
      "outputs": []
    },
    {
      "cell_type": "markdown",
      "source": [
        "Ya que tenemos la info estructural, podemos determinar por cuantas cadenas polipeptídicas está compuesta nuestra proteína y qué nombre recibe cada una."
      ],
      "metadata": {
        "id": "iz3QbfBWZQ3z"
      }
    },
    {
      "cell_type": "code",
      "source": [
        "for cadena in estructura[0]:\n",
        "    print(f'ID cadena: {cadena.id}')"
      ],
      "metadata": {
        "id": "zIzW_TA3ZKCI"
      },
      "execution_count": null,
      "outputs": []
    },
    {
      "cell_type": "code",
      "source": [
        "import nglview as nv\n",
        "nv.show_biopython(estructura, gui=True)"
      ],
      "metadata": {
        "id": "6sr91rwoaPt0"
      },
      "execution_count": null,
      "outputs": []
    },
    {
      "cell_type": "code",
      "source": [
        "from Bio.PDB.PDBParser import PDBParser\n",
        "from Bio.PDB.Polypeptide import PPBuilder\n",
        "structure = PDBParser().get_structure('6YYT', '6YYT.pdb')\n",
        "counter=0\n",
        "ppb=PPBuilder()\n",
        "for pp in ppb.build_peptides(structure):\n",
        "     seq = pp.get_sequence()\n",
        "     counter +=1\n",
        "     print(f\"Secuencia: {counter}, Longitud: {len(seq)}aa\")\n",
        "     print(seq)\n"
      ],
      "metadata": {
        "id": "fnkU05dgBD_c"
      },
      "execution_count": null,
      "outputs": []
    },
    {
      "cell_type": "code",
      "source": [
        "from Bio.SeqUtils.ProtParam import ProteinAnalysis\n",
        "analyzed_seq = ProteinAnalysis(str(seq))\n",
        "second_struc = analyzed_seq.secondary_structure_fraction()\n",
        "\n",
        "for second in range(len(second_struc)):\n",
        "  porcentaje= round(second_struc[second],2)*100\n",
        "  estruc= ['alfa-hélice', 'loop', 'hoja-beta']\n",
        "  print(f\"De esta secuencia el procentaje {estruc[second]} es {porcentaje} %\")\n"
      ],
      "metadata": {
        "id": "Ot9Ch_SJDS4I"
      },
      "execution_count": null,
      "outputs": []
    },
    {
      "cell_type": "markdown",
      "source": [
        "Support for third party widgets will remain active for the duration of the session. To disable support:"
      ],
      "metadata": {
        "id": "6CBqiV4sd_RQ"
      }
    },
    {
      "cell_type": "code",
      "source": [],
      "metadata": {
        "id": "PWf52aPHWsA1"
      },
      "execution_count": null,
      "outputs": []
    }
  ]
}